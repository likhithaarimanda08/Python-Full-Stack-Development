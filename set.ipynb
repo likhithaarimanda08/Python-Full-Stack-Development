{
  "nbformat": 4,
  "nbformat_minor": 0,
  "metadata": {
    "colab": {
      "name": "set.ipynb",
      "provenance": [],
      "authorship_tag": "ABX9TyPnL3WsP99dcnlN3g+C0BOO",
      "include_colab_link": true
    },
    "kernelspec": {
      "name": "python3",
      "display_name": "Python 3"
    },
    "language_info": {
      "name": "python"
    }
  },
  "cells": [
    {
      "cell_type": "markdown",
      "metadata": {
        "id": "view-in-github",
        "colab_type": "text"
      },
      "source": [
        "<a href=\"https://colab.research.google.com/github/likhithaarimanda08/Python-Full-Stack-Development/blob/main/set.ipynb\" target=\"_parent\"><img src=\"https://colab.research.google.com/assets/colab-badge.svg\" alt=\"Open In Colab\"/></a>"
      ]
    },
    {
      "cell_type": "code",
      "execution_count": null,
      "metadata": {
        "colab": {
          "base_uri": "https://localhost:8080/"
        },
        "id": "wv5Jp0BSG-Ox",
        "outputId": "c1da26ed-5fb0-4e03-f82a-310e53e47a64"
      },
      "outputs": [
        {
          "output_type": "stream",
          "name": "stdout",
          "text": [
            "True\n",
            "False\n"
          ]
        }
      ],
      "source": [
        "my_set=set(\"apple\")\n",
        "print('a' in my_set)\n",
        "print('p' not in my_set)"
      ]
    },
    {
      "cell_type": "code",
      "source": [
        "A={1,2,3,4}\n",
        "B={5,6,7,8}\n",
        "print('Union          = ', A | B)\n",
        "print('Intersection   = ', A & B)\n",
        "print('Difference     = ', A - B)\n",
        "print('Symmetric Diff = ', A ^ B)\n"
      ],
      "metadata": {
        "colab": {
          "base_uri": "https://localhost:8080/"
        },
        "id": "EpKVIwuzICWR",
        "outputId": "8ea79aac-c675-4f6c-fedb-0c3a9719dfb3"
      },
      "execution_count": null,
      "outputs": [
        {
          "output_type": "stream",
          "name": "stdout",
          "text": [
            "Union          =  {1, 2, 3, 4, 5, 6, 7, 8}\n",
            "Intersection   =  set()\n",
            "Difference     =  {1, 2, 3, 4}\n",
            "Symmetric Diff =  {1, 2, 3, 4, 5, 6, 7, 8}\n"
          ]
        }
      ]
    },
    {
      "cell_type": "code",
      "source": [
        "numbers = {1,2,3,4,5,6,7,8,9,10}\n",
        "odd = {1,3,5,7,9}\n",
        "even = {2,4,6,8,10}\n",
        "print(odd.isdisjoint(even))      \n",
        "print(numbers.issuperset(odd))\n",
        "print(odd.issuperset(numbers))\n",
        "print(odd.issubset(numbers))"
      ],
      "metadata": {
        "colab": {
          "base_uri": "https://localhost:8080/"
        },
        "id": "F7GTPlhVT-D1",
        "outputId": "9a0db8b7-b34b-443f-8d90-980993d8b624"
      },
      "execution_count": null,
      "outputs": [
        {
          "output_type": "stream",
          "name": "stdout",
          "text": [
            "True\n",
            "True\n",
            "False\n",
            "True\n"
          ]
        }
      ]
    },
    {
      "cell_type": "code",
      "source": [
        ""
      ],
      "metadata": {
        "id": "A8YSCz4daVyx"
      },
      "execution_count": null,
      "outputs": []
    }
  ]
}