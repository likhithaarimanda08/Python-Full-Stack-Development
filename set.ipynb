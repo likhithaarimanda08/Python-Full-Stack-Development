{
  "nbformat": 4,
  "nbformat_minor": 0,
  "metadata": {
    "colab": {
      "name": "set.ipynb",
      "provenance": [],
      "collapsed_sections": [],
      "authorship_tag": "ABX9TyNsbpdgwHqrXodqQ1x04V/i",
      "include_colab_link": true
    },
    "kernelspec": {
      "name": "python3",
      "display_name": "Python 3"
    },
    "language_info": {
      "name": "python"
    }
  },
  "cells": [
    {
      "cell_type": "markdown",
      "metadata": {
        "id": "view-in-github",
        "colab_type": "text"
      },
      "source": [
        "<a href=\"https://colab.research.google.com/github/likhithaarimanda08/Python-Full-Stack-Development/blob/main/set.ipynb\" target=\"_parent\"><img src=\"https://colab.research.google.com/assets/colab-badge.svg\" alt=\"Open In Colab\"/></a>"
      ]
    },
    {
      "cell_type": "code",
      "execution_count": 1,
      "metadata": {
        "colab": {
          "base_uri": "https://localhost:8080/"
        },
        "id": "ogydqW-nAL3h",
        "outputId": "380cb481-381d-47d1-9d74-751816c139f7"
      },
      "outputs": [
        {
          "output_type": "stream",
          "name": "stdout",
          "text": [
            "{1, 2, 3, 4}\n",
            "<class 'dict'>\n",
            "<class 'set'>\n"
          ]
        }
      ],
      "source": [
        "#create a set\n",
        "numberset={1,2,3,4}\n",
        "print(numberset)\n",
        "\n",
        "#this is an empty set\n",
        "emptyset = {} #creates a dictionary\n",
        "print(type(emptyset)) #output = <class 'dict'>\n",
        "\n",
        "emptyset = set() #this creates an empty set\n",
        "print(type(emptyset))  #output = <class 'set'>"
      ]
    },
    {
      "cell_type": "code",
      "source": [
        "set1={1,0,\"hello\"}\n",
        "print(set1)"
      ],
      "metadata": {
        "colab": {
          "base_uri": "https://localhost:8080/"
        },
        "id": "4ba-y4DBAqM-",
        "outputId": "42f0e053-3a50-4608-d993-6ba51cc252dd"
      },
      "execution_count": 2,
      "outputs": [
        {
          "output_type": "stream",
          "name": "stdout",
          "text": [
            "{0, 1, 'hello'}\n"
          ]
        }
      ]
    },
    {
      "cell_type": "code",
      "source": [
        "emptyset2=set()\n",
        "print(type(emptyset2))\n",
        "print(emptyset2)"
      ],
      "metadata": {
        "colab": {
          "base_uri": "https://localhost:8080/"
        },
        "id": "hMmYhhufA1ux",
        "outputId": "00e4f07b-35ef-49f9-dcc0-41af6e6973f6"
      },
      "execution_count": 3,
      "outputs": [
        {
          "output_type": "stream",
          "name": "stdout",
          "text": [
            "<class 'set'>\n",
            "set()\n"
          ]
        }
      ]
    },
    {
      "cell_type": "code",
      "source": [
        "sets={6,5,9,10}\n",
        "print(sets)"
      ],
      "metadata": {
        "colab": {
          "base_uri": "https://localhost:8080/"
        },
        "id": "JvJF0VG4BxXK",
        "outputId": "660b1439-5201-4584-b357-ade70760de52"
      },
      "execution_count": 6,
      "outputs": [
        {
          "output_type": "stream",
          "name": "stdout",
          "text": [
            "{9, 10, 5, 6}\n"
          ]
        }
      ]
    },
    {
      "cell_type": "code",
      "source": [
        "my_set=set()\n",
        "print(my_set)\n",
        "my_set.update([9,12])\n",
        "print(my_set)\n"
      ],
      "metadata": {
        "colab": {
          "base_uri": "https://localhost:8080/"
        },
        "id": "6ySc54DtE6nm",
        "outputId": "c5fe6815-ca28-4492-d68a-e8e56fce8c43"
      },
      "execution_count": 7,
      "outputs": [
        {
          "output_type": "stream",
          "name": "stdout",
          "text": [
            "set()\n",
            "{9, 12}\n"
          ]
        }
      ]
    },
    {
      "cell_type": "code",
      "source": [
        "my_set.update((3,5))\n",
        "print(my_set)"
      ],
      "metadata": {
        "colab": {
          "base_uri": "https://localhost:8080/"
        },
        "id": "Bn2x4g-JGSrP",
        "outputId": "22371e1e-77c2-42e5-94a0-951fddd3554f"
      },
      "execution_count": 8,
      "outputs": [
        {
          "output_type": "stream",
          "name": "stdout",
          "text": [
            "{9, 3, 12, 5}\n"
          ]
        }
      ]
    },
    {
      "cell_type": "code",
      "source": [
        "my_set.update(\"KLH\")\n",
        "print(my_set)"
      ],
      "metadata": {
        "colab": {
          "base_uri": "https://localhost:8080/"
        },
        "id": "lhqgrAHUGvBG",
        "outputId": "0768772a-1f67-4e2b-eb37-ab01c1b2d1b5"
      },
      "execution_count": 10,
      "outputs": [
        {
          "output_type": "stream",
          "name": "stdout",
          "text": [
            "{3, 5, 9, 'L', 'K', 12, 'H'}\n"
          ]
        }
      ]
    },
    {
      "cell_type": "code",
      "source": [
        "my_set.update(\"HIGH\",\"TECH\")\n",
        "print(my_set)"
      ],
      "metadata": {
        "colab": {
          "base_uri": "https://localhost:8080/"
        },
        "id": "K4JfbXM0HIgr",
        "outputId": "34d062fd-ca54-4b18-fdfa-890a18c3b109"
      },
      "execution_count": 11,
      "outputs": [
        {
          "output_type": "stream",
          "name": "stdout",
          "text": [
            "{3, 'G', 5, 9, 'E', 'L', 'K', 12, 'C', 'H', 'I', 'T'}\n"
          ]
        }
      ]
    },
    {
      "cell_type": "code",
      "source": [
        "my_set.discard(12)\n",
        "print(my_set)"
      ],
      "metadata": {
        "colab": {
          "base_uri": "https://localhost:8080/"
        },
        "id": "6Zc_6bgZKLe_",
        "outputId": "409149d8-a628-4f6b-ba20-c8470b86f385"
      },
      "execution_count": 13,
      "outputs": [
        {
          "output_type": "stream",
          "name": "stdout",
          "text": [
            "{3, 'G', 5, 9, 'E', 'L', 'K', 'C', 'H', 'I', 'T'}\n"
          ]
        }
      ]
    },
    {
      "cell_type": "code",
      "source": [
        "my_set.remove(5)\n",
        "print(my_set)"
      ],
      "metadata": {
        "colab": {
          "base_uri": "https://localhost:8080/"
        },
        "id": "yXvBkT_6LC_b",
        "outputId": "a808803d-6d44-43dc-ba59-873f919c272f"
      },
      "execution_count": 15,
      "outputs": [
        {
          "output_type": "stream",
          "name": "stdout",
          "text": [
            "{3, 'G', 9, 'E', 'L', 'K', 'C', 'H', 'I', 'T'}\n"
          ]
        }
      ]
    }
  ]
}