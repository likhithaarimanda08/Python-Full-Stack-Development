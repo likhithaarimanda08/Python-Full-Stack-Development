{
  "nbformat": 4,
  "nbformat_minor": 0,
  "metadata": {
    "colab": {
      "name": "List.ipynb",
      "provenance": [],
      "collapsed_sections": [],
      "authorship_tag": "ABX9TyOsJmgfNbPN5KXbPBmHH2+S",
      "include_colab_link": true
    },
    "kernelspec": {
      "name": "python3",
      "display_name": "Python 3"
    },
    "language_info": {
      "name": "python"
    }
  },
  "cells": [
    {
      "cell_type": "markdown",
      "metadata": {
        "id": "view-in-github",
        "colab_type": "text"
      },
      "source": [
        "<a href=\"https://colab.research.google.com/github/likhithaarimanda08/Python-Full-Stack-Development/blob/main/List.ipynb\" target=\"_parent\"><img src=\"https://colab.research.google.com/assets/colab-badge.svg\" alt=\"Open In Colab\"/></a>"
      ]
    },
    {
      "cell_type": "code",
      "execution_count": 2,
      "metadata": {
        "colab": {
          "base_uri": "https://localhost:8080/"
        },
        "id": "q4H9l0ycusTW",
        "outputId": "11c9eb97-63d3-4748-d0e2-068d58fbb59d"
      },
      "outputs": [
        {
          "output_type": "stream",
          "name": "stdout",
          "text": [
            "['apple', 'banana', 'mango']\n"
          ]
        }
      ],
      "source": [
        "list1=[\"apple\",\"banana\",\"mango\"]\n",
        "print(list1)"
      ]
    },
    {
      "cell_type": "code",
      "source": [
        "list2=[\"apple\",\"banana\",\"mango\",\"cherry\",\"lemon\"]\n",
        "print(list2)"
      ],
      "metadata": {
        "colab": {
          "base_uri": "https://localhost:8080/"
        },
        "id": "Drfzv_gPvOfP",
        "outputId": "19a7f62e-4d8c-4e72-8e1c-3604d17530c9"
      },
      "execution_count": 4,
      "outputs": [
        {
          "output_type": "stream",
          "name": "stdout",
          "text": [
            "['apple', 'banana', 'mango', 'cherry', 'lemon']\n"
          ]
        }
      ]
    },
    {
      "cell_type": "code",
      "source": [
        "list3=[1,2,3]\n",
        "print(list3)"
      ],
      "metadata": {
        "colab": {
          "base_uri": "https://localhost:8080/"
        },
        "id": "sokRlSD8va_u",
        "outputId": "f95a901e-9f00-4b99-82eb-b816793486e0"
      },
      "execution_count": 7,
      "outputs": [
        {
          "output_type": "stream",
          "name": "stdout",
          "text": [
            "[1, 2, 3]\n"
          ]
        }
      ]
    },
    {
      "cell_type": "code",
      "source": [
        "list4=[1,\"hello\",2,3]\n",
        "print(list4)"
      ],
      "metadata": {
        "colab": {
          "base_uri": "https://localhost:8080/"
        },
        "id": "-IcbNrP6vxrJ",
        "outputId": "fc07cc53-89b4-4b61-ebbd-03a54aef7fbf"
      },
      "execution_count": 9,
      "outputs": [
        {
          "output_type": "stream",
          "name": "stdout",
          "text": [
            "[1, 'hello', 2, 3]\n"
          ]
        }
      ]
    },
    {
      "cell_type": "code",
      "source": [
        "Nestlist=[\"mouse\",[1,2,3],['a']]\n",
        "print(Nestlist)\n"
      ],
      "metadata": {
        "colab": {
          "base_uri": "https://localhost:8080/"
        },
        "id": "5K45RjJqxFXb",
        "outputId": "034ed0bf-1443-44a0-b0f9-c1431132b48e"
      },
      "execution_count": 11,
      "outputs": [
        {
          "output_type": "stream",
          "name": "stdout",
          "text": [
            "['mouse', [1, 2, 3], ['a']]\n"
          ]
        }
      ]
    },
    {
      "cell_type": "code",
      "source": [
        "print(Nestlist[1])"
      ],
      "metadata": {
        "colab": {
          "base_uri": "https://localhost:8080/"
        },
        "id": "AB41gazmxVBj",
        "outputId": "8ad3946a-05aa-4b27-d671-e9c3657b7a7f"
      },
      "execution_count": 13,
      "outputs": [
        {
          "output_type": "stream",
          "name": "stdout",
          "text": [
            "[1, 2, 3]\n"
          ]
        }
      ]
    },
    {
      "cell_type": "code",
      "source": [
        "print(Nestlist[0])"
      ],
      "metadata": {
        "colab": {
          "base_uri": "https://localhost:8080/"
        },
        "id": "pDxHrHYbxh27",
        "outputId": "db7c5d7a-4d17-45ed-9d94-5bad3c6f6119"
      },
      "execution_count": 14,
      "outputs": [
        {
          "output_type": "stream",
          "name": "stdout",
          "text": [
            "mouse\n"
          ]
        }
      ]
    }
  ]
}